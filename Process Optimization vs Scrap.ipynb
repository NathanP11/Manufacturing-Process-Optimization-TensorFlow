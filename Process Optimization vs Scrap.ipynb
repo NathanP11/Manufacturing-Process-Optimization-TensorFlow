{
 "cells": [
  {
   "cell_type": "code",
   "execution_count": 141,
   "id": "3f6e8381-e38d-4e66-8e5f-4258ae48758b",
   "metadata": {},
   "outputs": [],
   "source": [
    "import numpy as np\n",
    "import csv\n",
    "import tensorflow as tf\n",
    "%matplotlib inline\n",
    "from tensorflow.keras.models import Sequential\n",
    "from keras import regularizers\n",
    "\n",
    "from tensorflow.keras.layers import Dense, LeakyReLU\n",
    "from tensorflow.keras.activations import linear, relu, sigmoid\n",
    "from matplotlib import cm\n",
    "import matplotlib.pyplot as plt\n",
    "import matplotlib.colors as colors"
   ]
  },
  {
   "cell_type": "code",
   "execution_count": 222,
   "id": "a04d15c4-a7b1-451b-8c51-3a59fb3017d6",
   "metadata": {},
   "outputs": [],
   "source": [
    "#process all data into matrixs\n",
    "\n",
    "with open('C:/Users/Nathan/Desktop/Computer Class/DeepLearning.AI/ML project/DC link to scrap/X control with y scrap.csv', 'r') as f:\n",
    "    reader = csv.reader(f)\n",
    "    headers = next(reader, None)\n",
    "    data = list(reader)\n",
    "myData = np.array(data, dtype=float)\n",
    "np.random.shuffle(myData)\n",
    "\n",
    "# col 12 = all scrap   # col 13 = sand scrap   # col 14 = gas scrap\n",
    "len = myData.shape[0]\n",
    "\n",
    "#break dataset into 3 groups, train, cv, test\n",
    "Index = int(len * 0.60 )\n",
    "trainXy = np.vsplit(myData , [Index,len])[0]\n",
    "temp = np.vsplit(myData , [Index,len])[1]\n",
    "cvXy = np.vsplit(temp , 2)[0]\n",
    "testXy = np.vsplit(temp , 2)[1]\n",
    "\n",
    "train_X = np.hsplit(trainXy , [12,15])[0]\n",
    "temp = np.hsplit(trainXy , [12,15])[1]\n",
    "train_y_all = np.hsplit(temp , 3)[0]\n",
    "train_y_sand = np.hsplit(temp , 3)[1]\n",
    "train_y_gas = np.hsplit(temp , 3)[2]\n",
    "\n",
    "cv_X = np.hsplit(cvXy , [12,15])[0]\n",
    "temp = np.hsplit(cvXy , [12,15])[1]\n",
    "cv_y_all = np.hsplit(temp , 3)[0]\n",
    "cv_y_sand = np.hsplit(temp , 3)[1]\n",
    "cv_y_gas = np.hsplit(temp , 3)[2]\n",
    "\n",
    "test_X = np.hsplit(testXy , [12,15])[0]\n",
    "temp = np.hsplit(testXy , [12,15])[1]\n",
    "test_y_all = np.hsplit(temp , 3)[0]\n",
    "test_y_sand = np.hsplit(temp , 3)[1]\n",
    "test_y_gas = np.hsplit(temp , 3)[2]\n",
    "\n",
    "#print(test_X)\n",
    "#print(cv_X)"
   ]
  },
  {
   "cell_type": "code",
   "execution_count": 247,
   "id": "fad64675-2349-4506-893e-e92c631b0b4a",
   "metadata": {},
   "outputs": [],
   "source": [
    "def makeModel ( lambda_ , numLayers , numPolynomial ) :\n",
    "    # suggest lambda < 10 \n",
    "    # suggest numLayers < 6 \n",
    "    # suggest numPolynomial < 64 , greater than 16 for 5 layer function\n",
    "    layer_1 = Dense(int(numPolynomial/2), activation = 'relu'      ,    kernel_regularizer=regularizers.L2(lambda_))\n",
    "    layer_2 = Dense(int(numPolynomial/2), activation = 'relu'      ,    kernel_regularizer=regularizers.L2(lambda_))\n",
    "    layer_3 = Dense(int(numPolynomial/4), activation = 'relu'      ,    kernel_regularizer=regularizers.L2(lambda_))\n",
    "    layer_4 = Dense(int(numPolynomial/8), activation = 'sigmoid'      ,    kernel_regularizer=regularizers.L2(lambda_))                \n",
    "    layer_5 = Dense(1,  activation = 'relu'   ,    kernel_regularizer=regularizers.L2(lambda_))\n",
    "\n",
    "    if numLayers == 2:\n",
    "        model = Sequential( [ layer_1, layer_5 ] )\n",
    "    elif numLayers == 3:\n",
    "        model = Sequential( [ layer_1, layer_2, layer_5 ] )\n",
    "    elif numLayers == 4:\n",
    "        numLayers = Sequential( [ layer_1, layer_2, layer_3, layer_5 ] )\n",
    "    elif numLayers == 5:\n",
    "        numLayers = Sequential( [ layer_1, layer_2, layer_3, layer_4, layer_5 ] )\n",
    "    \n",
    "    model.compile( loss=tf.keras.losses.MeanSquaredError(), optimizer=tf.keras.optimizers.Adam(0.001), )\n",
    "    \n",
    "    model.fit(     train_X,train_y_all,     epochs=10    )\n",
    "    return model"
   ]
  },
  {
   "cell_type": "code",
   "execution_count": 258,
   "id": "eecf2582-2cd7-4417-a3eb-fdd164d6047b",
   "metadata": {},
   "outputs": [],
   "source": [
    "def cvError( myModel , X_ , y_ ):\n",
    "    \n",
    "    eval =  myModel.evaluate(X_)  # model.predict\n",
    "    \n",
    "    err = (eval - y_)**2 \n",
    "    # difference squared model\n",
    "\n",
    "    #plt.title(\"Difference Squared Error Values\")\n",
    "    #plt.xlabel(\"Test # \")\n",
    "    #plt.ylabel(\"Err Value\")\n",
    "    #plt.plot(err)\n",
    "    \n",
    "    return err.sum() * (1 / (2 * y_.shape[1]))\n",
    "\n",
    "\n"
   ]
  },
  {
   "cell_type": "code",
   "execution_count": 260,
   "id": "094c7655-ca96-4dbe-897c-1a442829fcea",
   "metadata": {},
   "outputs": [
    {
     "name": "stdout",
     "output_type": "stream",
     "text": [
      "Epoch 1/10\n",
      "462/462 [==============================] - 2s 2ms/step - loss: 695.0903\n",
      "Epoch 2/10\n",
      "462/462 [==============================] - 1s 2ms/step - loss: 40.4961\n",
      "Epoch 3/10\n",
      "462/462 [==============================] - 2s 5ms/step - loss: 37.2836\n",
      "Epoch 4/10\n",
      "462/462 [==============================] - 1s 2ms/step - loss: 35.2048\n",
      "Epoch 5/10\n",
      "462/462 [==============================] - 1s 2ms/step - loss: 33.2358\n",
      "Epoch 6/10\n",
      "462/462 [==============================] - 1s 2ms/step - loss: 31.3806\n",
      "Epoch 7/10\n",
      "462/462 [==============================] - 1s 3ms/step - loss: 29.6024\n",
      "Epoch 8/10\n",
      "462/462 [==============================] - 1s 3ms/step - loss: 27.8921\n",
      "Epoch 9/10\n",
      "462/462 [==============================] - 1s 3ms/step - loss: 26.1332\n",
      "Epoch 10/10\n",
      "462/462 [==============================] - 2s 4ms/step - loss: 24.3304\n",
      "154/154 [==============================] - 1s 4ms/step - loss: 23.2818\n",
      "Epoch 1/10\n",
      "462/462 [==============================] - 3s 3ms/step - loss: 2295.4763\n",
      "Epoch 2/10\n",
      "462/462 [==============================] - 2s 4ms/step - loss: 35.0689\n",
      "Epoch 3/10\n",
      "462/462 [==============================] - 2s 3ms/step - loss: 28.5915\n",
      "Epoch 4/10\n",
      "462/462 [==============================] - 2s 3ms/step - loss: 25.4091\n",
      "Epoch 5/10\n",
      "462/462 [==============================] - 2s 4ms/step - loss: 24.6414\n",
      "Epoch 6/10\n",
      "462/462 [==============================] - 2s 4ms/step - loss: 24.2467\n",
      "Epoch 7/10\n",
      "462/462 [==============================] - 2s 3ms/step - loss: 23.8097\n",
      "Epoch 8/10\n",
      "462/462 [==============================] - 1s 3ms/step - loss: 23.2956\n",
      "Epoch 9/10\n",
      "462/462 [==============================] - 1s 3ms/step - loss: 22.7133\n",
      "Epoch 10/10\n",
      "462/462 [==============================] - 2s 5ms/step - loss: 22.0019\n",
      "154/154 [==============================] - 1s 2ms/step - loss: 21.5135\n",
      "Epoch 1/10\n",
      "462/462 [==============================] - 4s 7ms/step - loss: 20.2652\n",
      "Epoch 2/10\n",
      "462/462 [==============================] - 1s 3ms/step - loss: 3.8525\n",
      "Epoch 3/10\n",
      "462/462 [==============================] - 2s 3ms/step - loss: 0.9219\n",
      "Epoch 4/10\n",
      "462/462 [==============================] - 2s 4ms/step - loss: 0.3062\n",
      "Epoch 5/10\n",
      "462/462 [==============================] - 2s 5ms/step - loss: 0.1407\n",
      "Epoch 6/10\n",
      "462/462 [==============================] - 2s 3ms/step - loss: 0.0924\n",
      "Epoch 7/10\n",
      "462/462 [==============================] - 2s 3ms/step - loss: 0.0774\n",
      "Epoch 8/10\n",
      "462/462 [==============================] - 2s 3ms/step - loss: 0.0731\n",
      "Epoch 9/10\n",
      "462/462 [==============================] - 1s 3ms/step - loss: 0.0721\n",
      "Epoch 10/10\n",
      "462/462 [==============================] - 1s 3ms/step - loss: 0.0720\n",
      "154/154 [==============================] - 1s 3ms/step - loss: 2.9827e-06\n",
      "Epoch 1/10\n",
      "462/462 [==============================] - 4s 4ms/step - loss: 55.1513\n",
      "Epoch 2/10\n",
      "462/462 [==============================] - 2s 5ms/step - loss: 2.7428\n",
      "Epoch 3/10\n",
      "462/462 [==============================] - 2s 4ms/step - loss: 0.1177\n",
      "Epoch 4/10\n",
      "462/462 [==============================] - 2s 4ms/step - loss: 0.0722\n",
      "Epoch 5/10\n",
      "462/462 [==============================] - 2s 4ms/step - loss: 0.0720\n",
      "Epoch 6/10\n",
      "462/462 [==============================] - 3s 5ms/step - loss: 0.0720\n",
      "Epoch 7/10\n",
      "462/462 [==============================] - 2s 4ms/step - loss: 0.0720\n",
      "Epoch 8/10\n",
      "462/462 [==============================] - 2s 4ms/step - loss: 0.0720\n",
      "Epoch 9/10\n",
      "462/462 [==============================] - 2s 5ms/step - loss: 0.0720\n",
      "Epoch 10/10\n",
      "462/462 [==============================] - 2s 4ms/step - loss: 0.0720\n",
      "154/154 [==============================] - 1s 3ms/step - loss: 0.0000e+00\n"
     ]
    },
    {
     "ename": "NameError",
     "evalue": "name 'err_layer3_degree16' is not defined",
     "output_type": "error",
     "traceback": [
      "\u001b[1;31m--------------------\u001b[0m",
      "\u001b[1;31mNameError\u001b[0mTraceback (most recent call last)",
      "Cell \u001b[1;32mIn[260], line 30\u001b[0m\n\u001b[0;32m     27\u001b[0m lam_layer2_degree4[i] \u001b[38;5;241m=\u001b[39m mylambda\n\u001b[0;32m     29\u001b[0m thisModel \u001b[38;5;241m=\u001b[39m makeModel ( mylambda , \u001b[38;5;241m3\u001b[39m , \u001b[38;5;241m16\u001b[39m )\n\u001b[1;32m---> 30\u001b[0m \u001b[43merr_layer3_degree16\u001b[49m[i] \u001b[38;5;241m=\u001b[39m cvError( thisModel , cv_X , cv_y_all )\n\u001b[0;32m     31\u001b[0m lam_layer3_degree16[i] \u001b[38;5;241m=\u001b[39m mylambda\n\u001b[0;32m     33\u001b[0m thisModel \u001b[38;5;241m=\u001b[39m makeModel ( mylambda , \u001b[38;5;241m3\u001b[39m , \u001b[38;5;241m8\u001b[39m )\n",
      "\u001b[1;31mNameError\u001b[0m: name 'err_layer3_degree16' is not defined"
     ]
    }
   ],
   "source": [
    "mylambda = 8\n",
    "numToCheck = 15\n",
    "err_layer2_degree16 = np.zeros(numToCheck)\n",
    "err_layer2_degree8 = np.zeros(numToCheck)\n",
    "err_layer2_degree4 = np.zeros(numToCheck)\n",
    "\n",
    "lam_layer2_degree16 = np.zeros(numToCheck)\n",
    "lam_layer2_degree8 = np.zeros(numToCheck)\n",
    "lam_layer2_degree4 = np.zeros(numToCheck)\n",
    "\n",
    "lam_layer3_degree16 = np.zeros(numToCheck)\n",
    "lam_layer3_degree8 = np.zeros(numToCheck)\n",
    "lam_layer3_degree4 = np.zeros(numToCheck)\n",
    "\n",
    "for i in range(numToCheck):\n",
    "\n",
    "    thisModel = makeModel ( mylambda , 2 , 16 )\n",
    "    err_layer2_degree16[i] = cvError( thisModel , cv_X , cv_y_all )\n",
    "    lam_layer2_degree16[i] = mylambda\n",
    "    \n",
    "    thisModel = makeModel ( mylambda , 2 , 8 )\n",
    "    err_layer2_degree8[i] = cvError( thisModel , cv_X , cv_y_all )\n",
    "    lam_layer2_degree8[i] = mylambda\n",
    "    \n",
    "    thisModel = makeModel ( mylambda , 2 , 4 )\n",
    "    err_layer2_degree4[i] = cvError( thisModel , cv_X , cv_y_all )\n",
    "    lam_layer2_degree4[i] = mylambda\n",
    "\n",
    "    thisModel = makeModel ( mylambda , 3 , 16 )\n",
    "    err_layer3_degree16[i] = cvError( thisModel , cv_X , cv_y_all )\n",
    "    lam_layer3_degree16[i] = mylambda\n",
    "    \n",
    "    thisModel = makeModel ( mylambda , 3 , 8 )\n",
    "    err_layer3_degree8[i] = cvError( thisModel , cv_X , cv_y_all )\n",
    "    lam_layer3_degree8[i] = mylambda\n",
    "    \n",
    "    thisModel = makeModel ( mylambda , 3 , 4 )\n",
    "    err_layer3_degree4[i] = cvError( thisModel , cv_X , cv_y_all )\n",
    "    lam_layer3_degree4[i] = mylambda\n",
    "    \n",
    "    mylambda = mylambda / 2\n",
    "\n",
    "\n",
    "\n",
    "#plt.plot( lam , err )\n"
   ]
  },
  {
   "cell_type": "code",
   "execution_count": null,
   "id": "dfdc185b-82cb-4957-aec5-822f0693c6eb",
   "metadata": {},
   "outputs": [],
   "source": [
    "#w, b = layer_1.get_weights()\n",
    "#print(f\"w = {w}, b={b}\")\n",
    "\n",
    "plt.xscale(\"log\")\n",
    "plt.yscale(\"log\")\n",
    "\n",
    "plt.xlabel(\"Lambda \")\n",
    "plt.ylabel(\"Squared Err Value\")\n",
    "\n",
    "plt.plot( lam_layer2_degree16 , err_layer2_degree16, label='16 deg x 2 layers'  )\n",
    "plt.plot( lam_layer2_degree8 , err_layer2_degree8, label='8 deg x 2 layers'  )\n",
    "plt.plot( lam_layer2_degree4 , err_layer2_degree4, label='4 deg x 2 layers' )\n",
    "plt.plot( lam_layer3_degree16 , err_layer3_degree16, label='16 deg x 3 layers'  )\n",
    "plt.plot( lam_layer3_degree8 , err_layer3_degree8, label='8 deg x 3 layers'  )\n",
    "plt.plot( lam_layer3_degree4 , err_layer3_degree4, label='4 deg x 3 layers' )\n",
    "plt.legend()\n",
    "\n"
   ]
  },
  {
   "cell_type": "code",
   "execution_count": 189,
   "id": "ed0475ad-9417-47d2-bc33-81a93cc8e1f7",
   "metadata": {},
   "outputs": [
    {
     "name": "stdout",
     "output_type": "stream",
     "text": [
      "Model: \"sequential_41\"\n",
      "_________________________________________________________________\n",
      " Layer (type)                Output Shape              Param #   \n",
      "=================================================================\n",
      " dense_127 (Dense)           (None, 35)                455       \n",
      "                                                                 \n",
      " dense_128 (Dense)           (None, 25)                900       \n",
      "                                                                 \n",
      " dense_129 (Dense)           (None, 12)                312       \n",
      "                                                                 \n",
      " dense_130 (Dense)           (None, 8)                 104       \n",
      "                                                                 \n",
      " dense_131 (Dense)           (None, 1)                 9         \n",
      "                                                                 \n",
      "=================================================================\n",
      "Total params: 1780 (6.95 KB)\n",
      "Trainable params: 1780 (6.95 KB)\n",
      "Non-trainable params: 0 (0.00 Byte)\n",
      "_________________________________________________________________\n"
     ]
    }
   ],
   "source": [
    "model.summary()"
   ]
  },
  {
   "cell_type": "code",
   "execution_count": 56,
   "id": "306f0f6f-a91c-4693-8adc-8db500c61161",
   "metadata": {},
   "outputs": [
    {
     "data": {
      "text/plain": [
       "[<matplotlib.lines.Line2D at 0x1c4d4893290>]"
      ]
     },
     "execution_count": 56,
     "metadata": {},
     "output_type": "execute_result"
    },
    {
     "data": {
      "image/png": "[encoded data removed]",
      "text/plain": [
       "<Figure size 640x480 with 1 Axes>"
      ]
     },
     "metadata": {},
     "output_type": "display_data"
    }
   ],
   "source": [
    "i = list(range(0,10))\n",
    "j = list(range(0,10))\n",
    "\n",
    "plt.plot(i,j)"
   ]
  },
  {
   "cell_type": "code",
   "execution_count": 71,
   "id": "c1abf244-a6e7-48ea-a2ac-b38153a4d0f3",
   "metadata": {},
   "outputs": [
    {
     "data": {
      "text/plain": [
       "<matplotlib.collections.PathCollection at 0x1c4e2ce1690>"
      ]
     },
     "execution_count": 71,
     "metadata": {},
     "output_type": "execute_result"
    },
    {
     "data": {
      "image/png": "[encoded data removed]",
      "text/plain": [
       "<Figure size 640x480 with 1 Axes>"
      ]
     },
     "metadata": {},
     "output_type": "display_data"
    }
   ],
   "source": [
    "\n",
    "plt.xlabel(\"Temperature\")\n",
    "plt.ylabel(\"Scrap %\")\n",
    "plt.scatter(X[:,0],y)"
   ]
  },
  {
   "cell_type": "code",
   "execution_count": 261,
   "id": "59bf7775-285d-40ed-ad8a-fa8937f278e3",
   "metadata": {},
   "outputs": [
    {
     "data": {
      "text/plain": [
       "(array([5.0000e+00, 0.0000e+00, 0.0000e+00, 0.0000e+00, 3.2970e+03,\n",
       "        2.1178e+04, 7.4000e+01, 2.0000e+00, 0.0000e+00, 7.9000e+01]),\n",
       " array([ 0.,  9., 18., 27., 36., 45., 54., 63., 72., 81., 90.]),\n",
       " <BarContainer object of 10 artists>)"
      ]
     },
     "execution_count": 261,
     "metadata": {},
     "output_type": "execute_result"
    },
    {
     "data": {
      "image/png": "[encoded data removed]",
      "text/plain": [
       "<Figure size 640x480 with 1 Axes>"
      ]
     },
     "metadata": {},
     "output_type": "display_data"
    }
   ],
   "source": [
    "plt.title(\"Control Parameters\")\n",
    "plt.xlabel(\"Temperature\")\n",
    "plt.ylabel(\"Frequency\")\n",
    "\n",
    "plt.hist(X[:,0])\n",
    "\n",
    "plt.xlabel(\"SetPoint Compactability\")\n",
    "plt.ylabel(\"Frequency\")\n",
    "\n",
    "plt.hist(X[:,1])\n"
   ]
  },
  {
   "cell_type": "code",
   "execution_count": 262,
   "id": "601156e9-d7df-46ed-8663-8c9d5ce31709",
   "metadata": {},
   "outputs": [
    {
     "data": {
      "text/plain": [
       "'C:\\\\Users\\\\Nathan'"
      ]
     },
     "execution_count": 262,
     "metadata": {},
     "output_type": "execute_result"
    }
   ],
   "source": [
    "pwd"
   ]
  },
  {
   "cell_type": "code",
   "execution_count": null,
   "id": "a9beb968-f31e-46d4-8fe4-dc368de5e0c7",
   "metadata": {},
   "outputs": [],
   "source": []
  },
  {
   "cell_type": "code",
   "execution_count": null,
   "id": "3c8c86bd-74f7-4d15-9bb3-0efe4eed7300",
   "metadata": {},
   "outputs": [],
   "source": []
  }
 ],
 "metadata": {
  "kernelspec": {
   "display_name": "Python 3 (ipykernel)",
   "language": "python",
   "name": "python3"
  },
  "language_info": {
   "codemirror_mode": {
    "name": "ipython",
    "version": 3
   },
   "file_extension": ".py",
   "mimetype": "text/x-python",
   "name": "python",
   "nbconvert_exporter": "python",
   "pygments_lexer": "ipython3",
   "version": "3.11.8"
  }
 },
 "nbformat": 4,
 "nbformat_minor": 5
}
